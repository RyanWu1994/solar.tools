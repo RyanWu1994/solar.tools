{
 "cells": [
  {
   "cell_type": "code",
   "execution_count": null,
   "metadata": {},
   "outputs": [],
   "source": [
    "import requests\n",
    "from bs4 import BeautifulSoup\n",
    "import pandas as pd\n",
    "import json\n",
    "from fake_useragent import UserAgent\n",
    "from datetime import datetime\n",
    "import time\n",
    "from selenium import webdriver\n",
    "from selenium.webdriver.common.by import By"
   ]
  },
  {
   "cell_type": "code",
   "execution_count": null,
   "metadata": {},
   "outputs": [],
   "source": [
    "from selenium.webdriver.chrome.options import Options\n",
    "\n",
    "mobileEmulation = {'deviceName': 'iPhone X'}\n",
    "\n",
    "options = webdriver.ChromeOptions()\n",
    "\n",
    "options.add_experimental_option('mobileEmulation', mobileEmulation)\n",
    "\n",
    "#chrome_options.add_experimental_option(\"mobileEmulation\", mobile_emulation)"
   ]
  },
  {
   "cell_type": "code",
   "execution_count": null,
   "metadata": {},
   "outputs": [],
   "source": [
    "ua = UserAgent()\n",
    "headers = {\"User-Agent\":ua.random}\n",
    "\n",
    "local_time = datetime.now().strftime('%Y-%m-%d')\n",
    "\n",
    "url = \"https://smzb.io/api/more/live?live_type_id=1\"\n",
    "# url = \"https://smzb.io/api/more/live?live_type_id=45\"\n",
    "res = requests.get(url,headers=headers)\n",
    "schedule = json.loads(res.text)\n",
    "\n",
    "\n",
    "id_list = []\n",
    "title_list = []\n",
    "for i in range(len(schedule[\"data\"][\"rooms\"][1][\"data\"])):\n",
    "    id_list.append(schedule[\"data\"][\"rooms\"][1][\"data\"][i][\"id\"])\n",
    "    title_list.append(schedule[\"data\"][\"rooms\"][1][\"data\"][i][\"title\"])"
   ]
  },
  {
   "cell_type": "code",
   "execution_count": null,
   "metadata": {},
   "outputs": [],
   "source": [
    "#側試用 去點下載APP 會跳出IOS安裝\n",
    "#url = \"https://smzb.io/\"\n",
    "#CHROMEDRIVER_PATH = './tools/chromedriver.exe'\n",
    "#driver = webdriver.Chrome(CHROMEDRIVER_PATH, chrome_options=options)\n",
    "#driver.get(url)"
   ]
  },
  {
   "cell_type": "code",
   "execution_count": null,
   "metadata": {},
   "outputs": [],
   "source": [
    "for room_id,title in zip(id_list,title_list):\n",
    "    id_url = \"https://smzb.io/room/\"+str(room_id)\n",
    "    CHROMEDRIVER_PATH = './tools/chromedriver.exe'\n",
    "    driver = webdriver.Chrome(CHROMEDRIVER_PATH, chrome_options=options)\n",
    "    driver.get(id_url)\n",
    "    driver.maximize_window()\n",
    "    time.sleep(1)\n",
    "    driver.save_screenshot( \"./data_ios/\"+title+\".png\")\n",
    "    #sleep(5)\n",
    "    driver.close()\n",
    "    print(\"done: \", title)"
   ]
  },
  {
   "cell_type": "code",
   "execution_count": null,
   "metadata": {},
   "outputs": [],
   "source": [
    "len(id_list)"
   ]
  },
  {
   "cell_type": "code",
   "execution_count": null,
   "metadata": {},
   "outputs": [],
   "source": []
  }
 ],
 "metadata": {
  "kernelspec": {
   "display_name": "Python 3",
   "language": "python",
   "name": "python3"
  },
  "language_info": {
   "codemirror_mode": {
    "name": "ipython",
    "version": 3
   },
   "file_extension": ".py",
   "mimetype": "text/x-python",
   "name": "python",
   "nbconvert_exporter": "python",
   "pygments_lexer": "ipython3",
   "version": "3.7.4"
  }
 },
 "nbformat": 4,
 "nbformat_minor": 2
}
