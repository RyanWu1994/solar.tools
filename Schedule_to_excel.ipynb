{
 "cells": [
  {
   "cell_type": "code",
   "execution_count": 1,
   "metadata": {},
   "outputs": [],
   "source": [
    "#input 前台賽程表API url ，將api content轉匯成易讀的 excel，加速找尋問題"
   ]
  },
  {
   "cell_type": "code",
   "execution_count": 4,
   "metadata": {},
   "outputs": [
    {
     "name": "stdout",
     "output_type": "stream",
     "text": [
      "請輸入API url:https://smtv.io/program/listwithgame/default?parent=43&child=59&tag=&day_length=7&date=2020-07-02&now=Y&filter_live=Y\n"
     ]
    }
   ],
   "source": [
    "import requests\n",
    "from bs4 import BeautifulSoup\n",
    "import pandas as pd\n",
    "import json\n",
    "from datetime import datetime\n",
    "import time\n",
    "\n",
    "local_time = datetime.now().strftime('%Y-%m-%d')\n",
    "\n",
    "def Schedule_to_df(url):\n",
    "    \n",
    "    res = requests.get(url)\n",
    "    schedule = json.loads(res.text)\n",
    "\n",
    "    result = []\n",
    "\n",
    "    for i in range(2):\n",
    "     # -----------------------------層級一-----------------------------\n",
    "        try:\n",
    "            for j in range(len(schedule[\"result\"][i][\"data\"])):\n",
    "                #比賽時間\n",
    "                time = schedule[\"result\"][i][\"data\"][j][\"time\"]\n",
    "                # 大類別\n",
    "                live_types_name = schedule[\"result\"][i][\"data\"][j][\"live_types_name\"]\n",
    "                # 小類別\n",
    "                sportName = schedule[\"result\"][i][\"data\"][j][\"sportName\"]\n",
    "                # 賽事名稱\n",
    "                lname = schedule[\"result\"][i][\"data\"][j][\"lname\"]\n",
    "                # 隊伍名稱A\n",
    "                hname = schedule[\"result\"][i][\"data\"][j][\"hname\"]\n",
    "                # 隊伍名稱B\n",
    "                aname = schedule[\"result\"][i][\"data\"][j][\"aname\"]\n",
    "\n",
    "                for k in range(len(schedule[\"result\"][i][\"data\"][j][\"account\"])):\n",
    "\n",
    "    # -----------------------------層級二-----------------------------\n",
    "\n",
    "                    # 直播間名稱\n",
    "                    nickname = schedule[\"result\"][i][\"data\"][j][\"account\"][k][\"nickname\"]\n",
    "                    # 房間 id\n",
    "                    room_id = schedule[\"result\"][i][\"data\"][j][\"account\"][k][\"id\"]\n",
    "                    # 不知道是甚麼的 id\n",
    "                    sch_id = schedule[\"result\"][i][\"data\"][j][\"account\"][k][\"sch_id\"]\n",
    "                    # 房間 url\n",
    "                    room_url = schedule[\"result\"][i][\"data\"][j][\"account\"][k][\"url\"]\n",
    "                    # 房間 uuid\n",
    "                    uuid = schedule[\"result\"][i][\"data\"][j][\"account\"][k][\"uuid\"]\n",
    "                    # 直播間目前狀態 0:關播 1:開播中\n",
    "                    live_status = schedule[\"result\"][i][\"data\"][j][\"account\"][k][\"live_status\"]\n",
    "\n",
    "                    result_dict = {\n",
    "                        \"site\":url.split(\"/\")[2],\n",
    "                        \"time\":time,\n",
    "                        \"live_types_name\":live_types_name,\n",
    "                        \"sportName\":sportName,\n",
    "                        \"lname\":lname,\n",
    "                        \"hname\":hname,\n",
    "                        \"aname\":aname,\n",
    "                        \"nickname\":nickname,\n",
    "                        \"room_id\":room_id,\n",
    "                        \"sch_id\":sch_id,\n",
    "                        \"room_url\":room_url,\n",
    "                        \"uuid\":uuid,\n",
    "                        \"live_status\":live_status\n",
    "\n",
    "                    }\n",
    "\n",
    "                    result.append(result_dict)\n",
    "        except:\n",
    "            pass\n",
    "\n",
    "    df = pd.DataFrame(result,columns=[\"site\",\"time\",\"live_types_name\",\"sportName\", \\\n",
    "                                 \"lname\",\"hname\",\"aname\",\"nickname\",\"room_id\", \\\n",
    "                                 \"sch_id\",\"room_url\",\"uuid\",\"live_status\"])\n",
    "    \n",
    "    return df\n",
    "\n",
    "if __name__ == \"__main__\":\n",
    "    url = input(\"請輸入API url:\")\n",
    "    df = Schedule_to_df(url)\n",
    "    df.to_excel(\"schedule.xls\",sheet_name=local_time)"
   ]
  },
  {
   "cell_type": "code",
   "execution_count": 3,
   "metadata": {},
   "outputs": [],
   "source": [
    "# 問題測試區\n",
    "# test_url = \"https://smtv.io/program/listwithgame/default?parent=43&child=59&tag=&day_length=7&date=2020-07-02&now=Y&filter_live=Y\"\n",
    "# res = requests.get(test_url)\n",
    "# schedule = json.loads(res.text)\n",
    "\n",
    "\n"
   ]
  },
  {
   "cell_type": "code",
   "execution_count": null,
   "metadata": {},
   "outputs": [],
   "source": []
  },
  {
   "cell_type": "code",
   "execution_count": null,
   "metadata": {},
   "outputs": [],
   "source": []
  }
 ],
 "metadata": {
  "kernelspec": {
   "display_name": "Python 3",
   "language": "python",
   "name": "python3"
  },
  "language_info": {
   "codemirror_mode": {
    "name": "ipython",
    "version": 3
   },
   "file_extension": ".py",
   "mimetype": "text/x-python",
   "name": "python",
   "nbconvert_exporter": "python",
   "pygments_lexer": "ipython3",
   "version": "3.7.4"
  }
 },
 "nbformat": 4,
 "nbformat_minor": 2
}
