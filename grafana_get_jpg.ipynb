{
 "cells": [
  {
   "cell_type": "code",
   "execution_count": 1,
   "metadata": {},
   "outputs": [],
   "source": [
    "import requests\n",
    "import json\n",
    "from bs4 import BeautifulSoup\n",
    "from selenium import webdriver\n",
    "from selenium.webdriver.common.by import By\n",
    "from selenium.webdriver.common.action_chains import ActionChains\n",
    "import pandas as pd\n",
    "import os\n",
    "import random\n",
    "from datetime import datetime\n",
    "import time\n"
   ]
  },
  {
   "cell_type": "code",
   "execution_count": 2,
   "metadata": {},
   "outputs": [],
   "source": [
    "CHROMEDRIVER_PATH = './tools/chromedriver'\n",
    "driver = webdriver.Chrome(CHROMEDRIVER_PATH)\n",
    "driver.get(\"http://grafana.zanstartv.com/d/n__EulgGk/yun-ti-gong-shang-yu-e-jian-kong?orgId=1&refresh=30s\")\n",
    "\n",
    "driver.maximize_window()\n",
    "driver.find_element(By.NAME, \"user\").click()\n",
    "driver.find_element(By.NAME, \"user\").send_keys(\"username\")\n",
    "driver.find_element(By.ID, \"inputPassword\").click()\n",
    "driver.find_element(By.ID, \"inputPassword\").send_keys(\"passwd\")\n",
    "driver.find_element(By.CSS_SELECTOR, \".btn\").click()\n",
    "element = driver.find_element(By.CSS_SELECTOR, \".btn\")\n",
    "actions = ActionChains(driver)\n",
    "actions.move_to_element(element).perform()\n",
    "element = driver.find_element(By.CSS_SELECTOR, \"body\")\n",
    "driver.find_element(By.LINK_TEXT, \"Skip\").click()\n",
    "local_time = datetime.now().strftime(\"%Y-%m-%d\")\n",
    "time.sleep(2)\n",
    "driver.save_screenshot( \"./grafana/\"+\"雲供應商餘額監控-\"+local_time+\".png\")\n",
    "driver.close()\n",
    "\n"
   ]
  },
  {
   "cell_type": "code",
   "execution_count": null,
   "metadata": {},
   "outputs": [],
   "source": []
  }
 ],
 "metadata": {
  "kernelspec": {
   "display_name": "Python 3",
   "language": "python",
   "name": "python3"
  },
  "language_info": {
   "codemirror_mode": {
    "name": "ipython",
    "version": 3
   },
   "file_extension": ".py",
   "mimetype": "text/x-python",
   "name": "python",
   "nbconvert_exporter": "python",
   "pygments_lexer": "ipython3",
   "version": "3.7.4"
  }
 },
 "nbformat": 4,
 "nbformat_minor": 2
}
