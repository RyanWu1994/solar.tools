{
 "cells": [
  {
   "cell_type": "code",
   "execution_count": 1,
   "metadata": {},
   "outputs": [
    {
     "name": "stdout",
     "output_type": "stream",
     "text": [
      "./grafana/目錄已存在\n"
     ]
    }
   ],
   "source": [
    "import json\n",
    "from bs4 import BeautifulSoup\n",
    "from selenium import webdriver\n",
    "from selenium.webdriver.common.by import By\n",
    "from selenium.webdriver.common.action_chains import ActionChains\n",
    "import os\n",
    "from datetime import datetime\n",
    "import time\n",
    "\n",
    "path = './grafana/'\n",
    "\n",
    "def mkdir(path):\n",
    "\n",
    "    folder = os.path.exists(path)\n",
    "\n",
    "    if not folder:\n",
    "        os.makedirs(path)\n",
    "        print('-----建立成功-----')\n",
    "\n",
    "    else:\n",
    "        print(path+'目錄已存在')\n",
    "        \n",
    "\n",
    "def SeleniumGetPhoto():\n",
    "    CHROMEDRIVER_PATH = './tools/chromedriver'\n",
    "    driver = webdriver.Chrome(CHROMEDRIVER_PATH)\n",
    "    driver.get(\"http://grafana.zanstartv.com/d/VjNxerkMk/streamliu-liang-pin-zhi-jian-kong?orgId=1&refresh=5m\")\n",
    "\n",
    "    driver.maximize_window()\n",
    "    driver.find_element(By.NAME, \"user\").click()\n",
    "    driver.find_element(By.NAME, \"user\").send_keys(\"admin\")\n",
    "    driver.find_element(By.ID, \"inputPassword\").click()\n",
    "    driver.find_element(By.ID, \"inputPassword\").send_keys(\"admin\")\n",
    "    driver.find_element(By.CSS_SELECTOR, \".btn\").click()\n",
    "    element = driver.find_element(By.CSS_SELECTOR, \".btn\")\n",
    "    actions = ActionChains(driver)\n",
    "    actions.move_to_element(element).perform()\n",
    "    element = driver.find_element(By.CSS_SELECTOR, \"body\")\n",
    "    driver.find_element(By.LINK_TEXT, \"Skip\").click()\n",
    "    local_time = datetime.now().strftime(\"%Y-%m-%d\")\n",
    "    time.sleep(2)\n",
    "    mkdir(path)\n",
    "    driver.save_screenshot( \"./grafana/\"+\"雲供應商餘額監控-\"+local_time+\".png\")\n",
    "    driver.close()\n",
    "    \n",
    "    \n",
    "SeleniumGetPhoto()"
   ]
  },
  {
   "cell_type": "code",
   "execution_count": null,
   "metadata": {},
   "outputs": [],
   "source": [
    "\n"
   ]
  }
 ],
 "metadata": {
  "kernelspec": {
   "display_name": "Python 3",
   "language": "python",
   "name": "python3"
  },
  "language_info": {
   "codemirror_mode": {
    "name": "ipython",
    "version": 3
   },
   "file_extension": ".py",
   "mimetype": "text/x-python",
   "name": "python",
   "nbconvert_exporter": "python",
   "pygments_lexer": "ipython3",
   "version": "3.7.4"
  }
 },
 "nbformat": 4,
 "nbformat_minor": 2
}
