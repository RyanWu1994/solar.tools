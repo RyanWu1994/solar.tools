{
 "cells": [
  {
   "cell_type": "code",
   "execution_count": 1,
   "metadata": {},
   "outputs": [
    {
     "name": "stdout",
     "output_type": "stream",
     "text": [
      "./grafana/ ...exist\n"
     ]
    }
   ],
   "source": [
    "import time\n",
    "import os\n",
    "import json\n",
    "\n",
    "from bs4 import BeautifulSoup\n",
    "from selenium import webdriver\n",
    "from selenium.webdriver.common.by import By\n",
    "from selenium.webdriver.common.action_chains import ActionChains\n",
    "from selenium.webdriver.support.ui import WebDriverWait\n",
    "from selenium.webdriver.support import expected_conditions as EC\n",
    "from datetime import datetime\n",
    "\n",
    "\n",
    "path = './grafana/'\n",
    "\n",
    "def mkdir(path):\n",
    "\n",
    "    folder = os.path.exists(path)\n",
    "    if not folder:\n",
    "        os.makedirs(path)\n",
    "        print('-----mkdir done-----')\n",
    "    else:\n",
    "        print(path+' ...exist')\n",
    "        \n",
    "def SeleniumGetPhoto():\n",
    "#     CHROMEDRIVER_PATH = '/usr/local/share/chromedriver'\n",
    "    CHROMEDRIVER_PATH = './tools/chromedriver'\n",
    "\n",
    "    options = webdriver.ChromeOptions()\n",
    "    options.add_argument('--headless')\n",
    "    options.add_argument('--no-sandbox')\n",
    "    options.add_argument('--disable-gpu')\n",
    "    options.add_argument('blink-settings=imagesEnabled=false')\n",
    "    options.add_argument('--enable-features=OverlayScrollbar')\n",
    "    driver = webdriver.Chrome(executable_path=CHROMEDRIVER_PATH, options=options)\n",
    "    driver.get(\"http://grafana.zanstartv.com/d/VjNxerkMk/streamliu-liang-pin-zhi-jian-kong?orgId=1&refresh=5m\")\n",
    "#     driver.maximize_window()\n",
    "    driver.find_element(By.NAME, \"user\").click()\n",
    "    driver.find_element(By.NAME, \"user\").send_keys(\"admin\")\n",
    "    driver.find_element(By.ID, \"inputPassword\").click()\n",
    "    driver.find_element(By.ID, \"inputPassword\").send_keys(\"admin\")\n",
    "    driver.find_element(By.CSS_SELECTOR, \".btn\").click()\n",
    "    element = driver.find_element(By.CSS_SELECTOR, \".btn\")\n",
    "    actions = ActionChains(driver)\n",
    "    actions.move_to_element(element).perform()\n",
    "    element = driver.find_element(By.CSS_SELECTOR, \"body\")\n",
    "    driver.find_element(By.LINK_TEXT, \"Skip\").click()\n",
    "    time.sleep(2)\n",
    "    mkdir(path)\n",
    "    driver.save_screenshot( path + \"Stream.png\")\n",
    "    driver.close()\n",
    "    \n",
    "    \n",
    "SeleniumGetPhoto()"
   ]
  },
  {
   "cell_type": "code",
   "execution_count": null,
   "metadata": {},
   "outputs": [],
   "source": [
    "\n"
   ]
  }
 ],
 "metadata": {
  "kernelspec": {
   "display_name": "Python 3",
   "language": "python",
   "name": "python3"
  },
  "language_info": {
   "codemirror_mode": {
    "name": "ipython",
    "version": 3
   },
   "file_extension": ".py",
   "mimetype": "text/x-python",
   "name": "python",
   "nbconvert_exporter": "python",
   "pygments_lexer": "ipython3",
   "version": "3.7.4"
  }
 },
 "nbformat": 4,
 "nbformat_minor": 2
}
