{
 "cells": [
  {
   "cell_type": "code",
   "execution_count": 1,
   "metadata": {},
   "outputs": [],
   "source": [
    "import requests\n",
    "import pandas as pd\n",
    "import json\n",
    "import time\n",
    "import mysql.connector\n",
    "\n",
    "from bs4 import BeautifulSoup\n",
    "from fake_useragent import UserAgent\n",
    "from datetime import datetime\n",
    "from sqlalchemy import create_engine\n",
    "from collections import Counter\n",
    "from selenium import webdriver\n",
    "from selenium.webdriver.common.by import By\n",
    "from selenium.webdriver.chrome.options import Options"
   ]
  },
  {
   "cell_type": "code",
   "execution_count": 2,
   "metadata": {},
   "outputs": [
    {
     "name": "stderr",
     "output_type": "stream",
     "text": [
      "C:\\ProgramData\\Anaconda3\\lib\\site-packages\\ipykernel_launcher.py:48: DeprecationWarning: use options instead of chrome_options\n"
     ]
    }
   ],
   "source": [
    "def mysql_to_df():\n",
    "    mydb = mysql.connector.connect(\n",
    "            host=\"\",\n",
    "            user=\"\",\n",
    "            passwd=\"\",\n",
    "            database=\"\"\n",
    "    )\n",
    "\n",
    "    mycursor = mydb.cursor()\n",
    "    mycursor.execute(\"SELECT ms.id,ms.lid,ms.lname,ms.hname,ms.aname,ms.sportName,ms.time,ms.end_time,acc.nickname,acc.id  from smtv.match_schedules AS ms JOIN smtv.match_schedule_rooms AS msr ON msr.sch_id = ms.id AND (( ms.time between '2020-06-25 08:00:00' AND '2020-06-25 20:00:00' ) or ( ms.time between '2020-06-26 08:00:00' AND '2020-06-26 20:00:00' ) or ( ms.time between '2020-06-27 08:00:00' AND '2020-06-27 20:00:00' ) or ( ms.time between '2020-06-28 08:00:00' AND '2020-06-28 20:00:00' )) JOIN smtv.accounts AS acc ON acc.source !=3 AND acc.id = msr.room_id;\")\n",
    "    myresult = mycursor.fetchall()\n",
    "    df = pd.DataFrame(myresult)\n",
    "\n",
    "    mycursor.close()\n",
    "    mydb.close()\n",
    "    \n",
    "    return df\n",
    "\n",
    "df = mysql_to_df()\n",
    "\n",
    "id_list = []\n",
    "lname_list = []\n",
    "hname_list = []\n",
    "aname_list = []\n",
    "sportName_list = []\n",
    "nickname_list = []\n",
    "\n",
    "for i in range(len(df[0])):\n",
    "    id_list.append(df[9][i])\n",
    "    lname_list.append(df[2][i])\n",
    "    hname_list.append(df[3][i])\n",
    "    aname_list.append(df[4][i])\n",
    "    sportName_list.append(df[5][i])\n",
    "    nickname_list.append(df[8][i])\n",
    "\n",
    "mobileEmulation = {'deviceName': 'iPhone X'}\n",
    "\n",
    "options = webdriver.ChromeOptions()\n",
    "\n",
    "options.add_experimental_option('mobileEmulation', mobileEmulation)\n",
    "\n",
    "def Smtv_ios():\n",
    "    error_list = []\n",
    "    for room_id,lname,hname,aname,sportName,nickname in zip(id_list,lname_list,hname_list,aname_list,sportName_list,nickname_list):\n",
    "        try:\n",
    "            id_url = \"https://smtv.io/room/\"+str(room_id)\n",
    "            CHROMEDRIVER_PATH = './tools/chromedriver.exe'\n",
    "            driver = webdriver.Chrome(CHROMEDRIVER_PATH, chrome_options=options)\n",
    "            driver.get(id_url)\n",
    "            driver.maximize_window()\n",
    "            time.sleep(1)\n",
    "            local_date = datetime.now().strftime('%Y%m%d%H%M')\n",
    "            driver.save_screenshot( \"./data_ios/\"+ local_date +\"-\"+ str(room_id) +\"-\"+ nickname +\"-\"+ sportName +\"-\"+ lname +\"-\"+ hname +\"-\"+aname+\".png\")\n",
    "            driver.close()\n",
    "#             print(\"done: \", room_id,\" - \",nickname)\n",
    "            \n",
    "        except:\n",
    "            error_dict = {\n",
    "                \"type\" : \"ios\",\n",
    "                \"room_id\" : room_id,\n",
    "                \"nickname\":nickname,\n",
    "                \"datetime\":local_date\n",
    "                \n",
    "            }\n",
    "            error_list.append(error_dict)\n",
    "            \n",
    "    error_df = pd.DataFrame(error_list,columns=[\"type\",\"room_id\",\"nickname\",\"datetime\"])\n",
    "    error_df.to_csv(\"./error.csv\",encoding=\"utf_8_sig\",mode='a',header=False,index=False)\n",
    "        \n",
    "Smtv_ios()"
   ]
  }
 ],
 "metadata": {
  "kernelspec": {
   "display_name": "Python 3",
   "language": "python",
   "name": "python3"
  },
  "language_info": {
   "codemirror_mode": {
    "name": "ipython",
    "version": 3
   },
   "file_extension": ".py",
   "mimetype": "text/x-python",
   "name": "python",
   "nbconvert_exporter": "python",
   "pygments_lexer": "ipython3",
   "version": "3.7.4"
  }
 },
 "nbformat": 4,
 "nbformat_minor": 2
}
