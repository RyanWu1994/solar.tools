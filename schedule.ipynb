{
 "cells": [
  {
   "cell_type": "code",
   "execution_count": null,
   "metadata": {},
   "outputs": [],
   "source": [
    "import requests\n",
    "from bs4 import BeautifulSoup\n",
    "import pandas as pd\n",
    "import json\n",
    "from fake_useragent import UserAgent\n",
    "from datetime import datetime\n",
    "import time\n",
    "from sqlalchemy import create_engine\n",
    "from collections import Counter\n",
    "\n",
    "\n",
    "ua = UserAgent()\n",
    "headers = {\"User-Agent\":ua.random}"
   ]
  },
  {
   "cell_type": "code",
   "execution_count": null,
   "metadata": {},
   "outputs": [],
   "source": [
    "local_time = datetime.now().strftime('%Y-%m-%d')\n",
    "\n",
    "smtv_sports_url = \"https://smtv.io/program/listwithgame/default?parent=43&child=all&day_length=7&date=\"+local_time+\"&now=Y&filter_live=Y\"\n",
    "smtv_entertainment_url = \"https://smtv.io/program/listwithgame/default?parent=44&child=all&day_length=7&date=\"+local_time+\"&now=Y&filter_live=Y\"\n",
    "smtv_game_url = \"https://smtv.io/program/listwithgame/default?parent=81&child=all&day_length=7&date=\"+local_time+\"&now=Y&filter_live=Y\"\n",
    "smzb_sports_url = \"https://smzb.io/program/listwithgame/default?parent=1&child=all&day_length=7&date=\"+local_time+\"&now=Y&filter_live=Y\"\n",
    "smzb_entertainment_url = \"https://smzb.io/program/listwithgame/default?parent=2&child=all&day_length=7&date=\"+local_time+\"&now=Y&filter_live=Y\"\n",
    "smzb_game_url = \"https://smzb.io/program/listwithgame/default?parent=45&child=all&day_length=7&date=\"+local_time+\"&now=Y&filter_live=Y\"\n",
    "kl99_sports_url = \"https://kl99.tv/program/listwithgame/default?parent=1&child=all&tag=&day_length=7&date=\"+local_time+\"&now=Y&filter_live=Y\"\n",
    "lj88_sports_url = \"https://lj88.tv/program/listwithgame/default?parent=27&child=all&tag=&day_length=7&date=\"+local_time+\"&now=Y&filter_live=Y&from=gg\"\n",
    "ggzb_game_url = \"https://ggzb.io/program/listwithgame/default?parent=1&child=all&tag=&day_length=7&date=\"+local_time+\"&now=Y&filter_live=Y&from=gg\"\n",
    "\n"
   ]
  },
  {
   "cell_type": "code",
   "execution_count": null,
   "metadata": {},
   "outputs": [],
   "source": [
    "def Get_Schedule_diff(url,Site):\n",
    "    res = requests.get(url,headers=headers)\n",
    "    schedule = json.loads(res.text)\n",
    "    result = []\n",
    "    for i in range(len(schedule[\"result\"])):\n",
    "\n",
    "        for j in range(len(schedule[\"result\"][i][\"data\"])):\n",
    "\n",
    "            Category = schedule[\"result\"][i][\"data\"][j][\"live_types_name\"]\n",
    "            Type = schedule[\"result\"][i][\"data\"][j][\"live_types_child_name\"]\n",
    "            Date = schedule[\"result\"][i][\"data\"][j][\"time\"][:10]\n",
    "            StartTime = schedule[\"result\"][i][\"data\"][j][\"time\"][-8:]\n",
    "            GameName = schedule[\"result\"][i][\"data\"][j][\"lname\"]\n",
    "            TeamNameA = schedule[\"result\"][i][\"data\"][j][\"hname\"]\n",
    "            TeamNameB = schedule[\"result\"][i][\"data\"][j][\"aname\"]\n",
    "\n",
    "            result_dict = {\n",
    "                \"Site\":Site,\n",
    "                \"Category\":Category,\n",
    "                \"Type\":Type,\n",
    "                \"Date\":Date,\n",
    "                \"StartTime\":StartTime,\n",
    "                \"GameName\":GameName,\n",
    "                \"TeamNameA\":TeamNameA,\n",
    "                \"TeamNameB\":TeamNameB\n",
    "                \n",
    "            }\n",
    "\n",
    "            result.append(result_dict)\n",
    "\n",
    "    return result"
   ]
  },
  {
   "cell_type": "code",
   "execution_count": null,
   "metadata": {},
   "outputs": [],
   "source": [
    "user = \"root\"\n",
    "passwd = \"Pn123456\"\n",
    "ip = \"192.168.22.110:3306\"\n",
    "db_name = \"DB_name\"\n",
    "table_name = \"Schedule\"\n",
    "\n",
    "def List_to_mysql(user,passwd,ip,db_name,table_name,result_list):\n",
    "\n",
    "    engine = create_engine('mysql+mysqlconnector://'+ user +':'+ passwd +'@'+ip+'/'+ db_name +'?charset=utf8', encoding='utf-8')\n",
    "    con = engine.connect() #建立連結\n",
    "    \n",
    "    for item in result_list:\n",
    "        df = pd.DataFrame(item, index=[0])\n",
    "        try:\n",
    "            df.to_sql(name=table_name,con=con,if_exists='append',index=False) #假設table已存在 就自動往下加入data\n",
    "\n",
    "        except Exception as e:\n",
    "            if 'PRIMARY' in str(e):\n",
    "                pass\n",
    "\n",
    "    con.close() \n",
    "    engine.dispose()"
   ]
  },
  {
   "cell_type": "code",
   "execution_count": null,
   "metadata": {},
   "outputs": [],
   "source": [
    "# smtv.io\n",
    "\n",
    "Site = \"smtv.io\"\n",
    "result_list = Get_Schedule_diff(url=smtv_sports_url,Site=Site)\n",
    "List_to_mysql(user,passwd,ip,db_name,table_name,result_list)\n",
    "\n",
    "result_list = Get_Schedule_diff(url=smtv_entertainment_url,Site=Site)\n",
    "List_to_mysql(user,passwd,ip,db_name,table_name,result_list)\n",
    "\n",
    "result_list = Get_Schedule_diff(url=smtv_game_url,Site=Site)\n",
    "List_to_mysql(user,passwd,ip,db_name,table_name,result_list)\n",
    "\n",
    "\n",
    "# smzb.io\n",
    "\n",
    "Site = \"smzb.io\"\n",
    "result_list = Get_Schedule_diff(url=smzb_sports_url,Site=Site)\n",
    "List_to_mysql(user,passwd,ip,db_name,table_name,result_list)\n",
    "\n",
    "result_list = Get_Schedule_diff(url=smzb_entertainment_url,Site=Site)\n",
    "List_to_mysql(user,passwd,ip,db_name,table_name,result_list)\n",
    "\n",
    "result_list = Get_Schedule_diff(url=smzb_game_url,Site=Site)\n",
    "List_to_mysql(user,passwd,ip,db_name,table_name,result_list)\n"
   ]
  },
  {
   "cell_type": "code",
   "execution_count": null,
   "metadata": {},
   "outputs": [],
   "source": []
  },
  {
   "cell_type": "code",
   "execution_count": null,
   "metadata": {},
   "outputs": [],
   "source": []
  }
 ],
 "metadata": {
  "kernelspec": {
   "display_name": "Python 3",
   "language": "python",
   "name": "python3"
  },
  "language_info": {
   "codemirror_mode": {
    "name": "ipython",
    "version": 3
   },
   "file_extension": ".py",
   "mimetype": "text/x-python",
   "name": "python",
   "nbconvert_exporter": "python",
   "pygments_lexer": "ipython3",
   "version": "3.6.9"
  }
 },
 "nbformat": 4,
 "nbformat_minor": 2
}
