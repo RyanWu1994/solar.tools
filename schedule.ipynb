{
 "cells": [
  {
   "cell_type": "code",
   "execution_count": null,
   "metadata": {},
   "outputs": [],
   "source": [
    "import requests\n",
    "from bs4 import BeautifulSoup\n",
    "import pandas as pd\n",
    "import json\n",
    "from fake_useragent import UserAgent\n",
    "from datetime import datetime\n",
    "import time\n",
    "\n",
    "\n",
    "ua = UserAgent()\n",
    "headers = {\"User-Agent\":ua.random}"
   ]
  },
  {
   "cell_type": "code",
   "execution_count": null,
   "metadata": {},
   "outputs": [],
   "source": [
    "local_time = datetime.now().strftime('%Y-%m-%d')\n",
    "\n",
    "smtv_sports_url = \"https://smtv.io/program/listwithgame/default?parent=43&child=all&day_length=7&date=\"+local_time+\"&now=Y&filter_live=Y\"\n",
    "smtv_entertainment_url = \"https://smtv.io/program/listwithgame/default?parent=44&child=all&day_length=7&date=\"+local_time+\"&now=Y&filter_live=Y\"\n",
    "smtv_game_url = \"https://smtv.io/program/listwithgame/default?parent=81&child=all&day_length=7&date=\"+local_time+\"&now=Y&filter_live=Y\"\n",
    "smzb_sports_url = \"https://smzb.io/program/listwithgame/default?parent=1&child=all&day_length=7&date=\"+local_time+\"&now=Y&filter_live=Y\"\n",
    "smzb_entertainment_url = \"https://smzb.io/program/listwithgame/default?parent=2&child=all&day_length=7&date=\"+local_time+\"&now=Y&filter_live=Y\"\n",
    "smzb_game_url = \"https://smzb.io/program/listwithgame/default?parent=45&child=all&day_length=7&date=\"+local_time+\"&now=Y&filter_live=Y\"\n",
    "kl99_sports_url = \"https://kl99.tv/program/listwithgame/default?parent=1&child=all&tag=&day_length=7&date=\"+local_time+\"&now=Y&filter_live=Y\"\n",
    "lj88_sports_url = \"https://lj88.tv/program/listwithgame/default?parent=27&child=all&tag=&day_length=7&date=\"+local_time+\"&now=Y&filter_live=Y&from=gg\"\n",
    "ggzb_game_url = \"https://ggzb.io/program/listwithgame/default?parent=1&child=all&tag=&day_length=7&date=\"+local_time+\"&now=Y&filter_live=Y&from=gg\"\n",
    "\n"
   ]
  },
  {
   "cell_type": "code",
   "execution_count": null,
   "metadata": {},
   "outputs": [],
   "source": [
    "def Get_Schedule_diff(url):\n",
    "    res = requests.get(url,headers=headers)\n",
    "    schedule = json.loads(res.text)\n",
    "    result = []\n",
    "    for i in range(len(schedule[\"result\"])):\n",
    "\n",
    "        for j in range(len(schedule[\"result\"][i][\"data\"])):\n",
    "\n",
    "            live_types_name = schedule[\"result\"][i][\"data\"][j][\"live_types_name\"]\n",
    "            live_types_child_name = schedule[\"result\"][i][\"data\"][j][\"live_types_child_name\"]\n",
    "            lname = schedule[\"result\"][i][\"data\"][j][\"lname\"]\n",
    "            time = schedule[\"result\"][i][\"data\"][j][\"time\"]\n",
    "            hname = schedule[\"result\"][i][\"data\"][j][\"hname\"]\n",
    "            aname = schedule[\"result\"][i][\"data\"][j][\"aname\"]\n",
    "\n",
    "            result_str = time + \"  \" + lname + \"  \" + hname + \" vs \" + aname\n",
    "\n",
    "            result.append(result_str)\n",
    "\n",
    "    return result"
   ]
  },
  {
   "cell_type": "code",
   "execution_count": null,
   "metadata": {},
   "outputs": [],
   "source": []
  }
 ],
 "metadata": {
  "kernelspec": {
   "display_name": "Python 3",
   "language": "python",
   "name": "python3"
  },
  "language_info": {
   "codemirror_mode": {
    "name": "ipython",
    "version": 3
   },
   "file_extension": ".py",
   "mimetype": "text/x-python",
   "name": "python",
   "nbconvert_exporter": "python",
   "pygments_lexer": "ipython3",
   "version": "3.7.4"
  }
 },
 "nbformat": 4,
 "nbformat_minor": 2
}
