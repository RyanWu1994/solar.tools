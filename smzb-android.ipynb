{
 "cells": [
  {
   "cell_type": "code",
   "execution_count": 2,
   "metadata": {},
   "outputs": [],
   "source": [
    "import requests\n",
    "from bs4 import BeautifulSoup\n",
    "import pandas as pd\n",
    "import json\n",
    "from fake_useragent import UserAgent\n",
    "from datetime import datetime\n",
    "import time\n",
    "from selenium import webdriver\n",
    "from selenium.webdriver.common.by import By"
   ]
  },
  {
   "cell_type": "code",
   "execution_count": 3,
   "metadata": {},
   "outputs": [],
   "source": [
    "from selenium.webdriver.chrome.options import Options\n",
    "\n",
    "mobile_emulation = {\n",
    "\n",
    "    \"deviceMetrics\": { \"width\": 360, \"height\": 640, \"pixelRatio\": 3.0 },\n",
    "\n",
    "    \"userAgent\": \"Mozilla/5.0 (Linux; Android 4.2.1; en-us; Nexus 5 Build/JOP40D) AppleWebKit/535.19 (KHTML, like Gecko) Chrome/18.0.1025.166 Mobile Safari/535.19\" }\n",
    "\n",
    "chrome_options = Options()\n",
    "\n",
    "chrome_options.add_experimental_option(\"mobileEmulation\", mobile_emulation)\n",
    "\n",
    "#driver = webdriver.Chrome(chrome_options = chrome_options)"
   ]
  },
  {
   "cell_type": "code",
   "execution_count": 4,
   "metadata": {},
   "outputs": [],
   "source": [
    "ua = UserAgent()\n",
    "headers = {\"User-Agent\":ua.random}\n",
    "\n",
    "local_time = datetime.now().strftime('%Y-%m-%d')\n",
    "\n",
    "url = \"https://smzb.io/api/more/live?live_type_id=1\"\n",
    "# url = \"https://smzb.io/api/more/live?live_type_id=45\"\n",
    "res = requests.get(url,headers=headers)\n",
    "schedule = json.loads(res.text)\n",
    "\n",
    "\n",
    "id_list = []\n",
    "title_list = []\n",
    "for i in range(len(schedule[\"data\"][\"rooms\"][1][\"data\"])):\n",
    "    id_list.append(schedule[\"data\"][\"rooms\"][1][\"data\"][i][\"id\"])\n",
    "    title_list.append(schedule[\"data\"][\"rooms\"][1][\"data\"][i][\"title\"])"
   ]
  },
  {
   "cell_type": "code",
   "execution_count": null,
   "metadata": {},
   "outputs": [],
   "source": []
  },
  {
   "cell_type": "code",
   "execution_count": 5,
   "metadata": {},
   "outputs": [
    {
     "name": "stderr",
     "output_type": "stream",
     "text": [
      "C:\\Users\\Hima.Tsai\\AppData\\Local\\Continuum\\anaconda3\\lib\\site-packages\\ipykernel_launcher.py:4: DeprecationWarning: use options instead of chrome_options\n",
      "  after removing the cwd from sys.path.\n"
     ]
    },
    {
     "name": "stdout",
     "output_type": "stream",
     "text": [
      "done:  CBA - 上海久事 VS 辽宁本钢 高清直播11\n",
      "done:  电竞足球-职业联赛-12分钟比赛 - 佩莱战士(PWR)电竞 VS 甘比特(GMB)电竞 高清直播47\n",
      "done:  虚拟赛事 - 苏联 VS 波兰 高清直播13\n",
      "done:  CBA - 天津先行者 VS 深圳马可波罗 高清直播12\n",
      "done:  CBA - 天津先行者 VS 深圳马可波罗 信号1的直播间\n",
      "done:  FIFA20西班牙网络明星赛 - 10分钟比赛 VS 直播4 高清直播39\n",
      "done:  FIFA20西班牙网络明星赛 - 10分钟比赛 VS 直播1 高清直播36\n",
      "done:  CBA - 上海久事 VS 辽宁本钢 信号2的直播间\n",
      "done:  CBA - 天津先行者 VS 深圳马可波罗 信号2的直播间\n",
      "done:  FIFA20西班牙网络明星赛 - 10分钟比赛 VS 直播3 高清直播38\n",
      "done:  CBA - 天津先行者 VS 深圳马可波罗 信号3的直播间\n",
      "done:  国际友谊 - 波希米亚人1905B队 VS 布拉格斯拉维亚B队 信号1的直播间\n",
      "done:  国际友谊 - 波希米亚人1905B队 VS 布拉格斯拉维亚B队 信号2的直播间\n",
      "done:  CBA - 天津先行者 VS 深圳马可波罗 信号4的直播间\n"
     ]
    }
   ],
   "source": [
    "for room_id,title in zip(id_list,title_list):\n",
    "    id_url = \"https://smzb.io/room/\"+str(room_id)\n",
    "    CHROMEDRIVER_PATH = './tools/chromedriver.exe'\n",
    "    driver = webdriver.Chrome(CHROMEDRIVER_PATH, chrome_options = chrome_options)\n",
    "    driver.get(id_url)\n",
    "    driver.maximize_window()\n",
    "    time.sleep(1)\n",
    "    driver.save_screenshot( \"./data_android/\"+title+\".png\")\n",
    "    #time.sleep(7)\n",
    "    driver.close()\n",
    "    print(\"done: \", title)"
   ]
  },
  {
   "cell_type": "code",
   "execution_count": 6,
   "metadata": {},
   "outputs": [
    {
     "data": {
      "text/plain": [
       "14"
      ]
     },
     "execution_count": 6,
     "metadata": {},
     "output_type": "execute_result"
    }
   ],
   "source": [
    "len(id_list)"
   ]
  },
  {
   "cell_type": "code",
   "execution_count": null,
   "metadata": {},
   "outputs": [],
   "source": []
  }
 ],
 "metadata": {
  "kernelspec": {
   "display_name": "Python 3",
   "language": "python",
   "name": "python3"
  },
  "language_info": {
   "codemirror_mode": {
    "name": "ipython",
    "version": 3
   },
   "file_extension": ".py",
   "mimetype": "text/x-python",
   "name": "python",
   "nbconvert_exporter": "python",
   "pygments_lexer": "ipython3",
   "version": "3.7.4"
  }
 },
 "nbformat": 4,
 "nbformat_minor": 2
}
