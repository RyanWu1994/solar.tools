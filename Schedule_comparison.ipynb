{
 "cells": [
  {
   "cell_type": "code",
   "execution_count": null,
   "metadata": {},
   "outputs": [],
   "source": [
    "import requests\n",
    "from bs4 import BeautifulSoup\n",
    "import pandas as pd\n",
    "import re\n",
    "import json\n",
    "from fake_useragent import UserAgent\n",
    "from datetime import datetime\n",
    "import time\n",
    "from pandas.testing import assert_frame_equal\n"
   ]
  },
  {
   "cell_type": "code",
   "execution_count": null,
   "metadata": {},
   "outputs": [],
   "source": [
    "ua = UserAgent()\n",
    "headers = {\"User-Agent\":ua.random}"
   ]
  },
  {
   "cell_type": "code",
   "execution_count": null,
   "metadata": {},
   "outputs": [],
   "source": [
    "local_time = datetime.now().strftime('%Y-%m-%d')"
   ]
  },
  {
   "cell_type": "code",
   "execution_count": null,
   "metadata": {},
   "outputs": [],
   "source": [
    "# 平台 賽程時間 賽事 type A隊伍 B隊伍 信號[]"
   ]
  },
  {
   "cell_type": "code",
   "execution_count": null,
   "metadata": {},
   "outputs": [],
   "source": [
    "# smtv 體育\n",
    "# https://smtv.io/program/43\n",
    "# smtv 娛樂\n",
    "# https://smtv.io/program/44\n",
    "# smtv 電競\n",
    "# https://smtv.io/program/81\n",
    "\n",
    "#------------------------------\n",
    "\n",
    "# smzb 體育\n",
    "# https://smzb.io/program/1\n",
    "# smzb 娛樂\n",
    "# https://smzb.io/program/2\n",
    "# smzb 電競    \n",
    "# https://smzb.io/program/45\n",
    "\n",
    "#------------------------------\n",
    "\n",
    "# ggzb 電競\n",
    "# https://ggzb.io/\n",
    "\n",
    "#------------------------------\n",
    "\n",
    "# lj88 體育\n",
    "# https://lj88.tv/\n",
    "\n",
    "#------------------------------\n",
    "\n",
    "# hqzb 體育\n",
    "# https://hqzb.tv/program\n",
    "\n",
    "#------------------------------"
   ]
  },
  {
   "cell_type": "code",
   "execution_count": null,
   "metadata": {},
   "outputs": [],
   "source": [
    "# 比較列表\n",
    "\n",
    "# smtv體育 diff smzb體育\n",
    "# smtv體育 diff hqzb體育\n",
    "# smtv體育 diff kl99體育\n",
    "# smtv體育 diff lj88體育\n",
    "# smtv體育 diff pinqiu體育\n",
    "\n",
    "# ------------------------\n",
    "\n",
    "# smtv電競 diff smzb電競\n",
    "# smtv電競 diff ggzb電競\n",
    "\n",
    "# ------------------------\n",
    "\n",
    "# smtv娛樂 diff smzb娛樂\n",
    "\n",
    "\n"
   ]
  },
  {
   "cell_type": "code",
   "execution_count": null,
   "metadata": {},
   "outputs": [],
   "source": [
    "def Get_Schedule_to_DF(url):\n",
    "    res = requests.get(url,headers=headers)\n",
    "    schedule = json.loads(res.text)\n",
    "    result = []\n",
    "    for i in range(len(schedule[\"result\"])):\n",
    "\n",
    "        for j in range(len(schedule[\"result\"][i][\"data\"])):\n",
    "\n",
    "            live_types_name = schedule[\"result\"][i][\"data\"][j][\"live_types_name\"]\n",
    "            live_types_child_name = schedule[\"result\"][i][\"data\"][j][\"live_types_child_name\"]\n",
    "            lname = schedule[\"result\"][i][\"data\"][j][\"lname\"]\n",
    "            time = schedule[\"result\"][i][\"data\"][j][\"time\"]\n",
    "            hname = schedule[\"result\"][i][\"data\"][j][\"hname\"]\n",
    "            aname = schedule[\"result\"][i][\"data\"][j][\"aname\"]\n",
    "            account = []\n",
    "\n",
    "            for k in schedule[\"result\"][i][\"data\"][j][\"account\"]:\n",
    "                nickname = k[\"nickname\"]\n",
    "                live_status = k[\"live_status\"]\n",
    "\n",
    "                if live_status == 1:\n",
    "                    status = \"開播\"\n",
    "                else:\n",
    "                    status = \"未開播\"\n",
    "                account.append({\"nickname\":nickname,\"live_status\":status})\n",
    "\n",
    "            dict_={\n",
    "                \"live_types_name\":live_types_name,\n",
    "                \"live_types_child_name\":live_types_child_name,\n",
    "                \"lname\":lname,\n",
    "                \"time\":time,\n",
    "                \"hname\":hname,\n",
    "                \"aname\":aname,\n",
    "                \"account\":account\n",
    "            }\n",
    "            result.append(dict_)\n",
    "\n",
    "    df = pd.DataFrame(result)\n",
    "\n",
    "    return df\n"
   ]
  },
  {
   "cell_type": "code",
   "execution_count": null,
   "metadata": {},
   "outputs": [],
   "source": [
    "smtv_url = \"https://smtv.io/program/listwithgame/default?parent=43&child=all&day_length=7&date=2020-06-05&now=Y&filter_live=Y\"\n",
    "smtv_df = Get_Schedule_to_DF(url=smtv_url)\n",
    "smtv_df"
   ]
  },
  {
   "cell_type": "code",
   "execution_count": null,
   "metadata": {},
   "outputs": [],
   "source": [
    "smzb_url = \"https://smzb.io/program/listwithgame/default?parent=1&child=all&day_length=7&date=2020-06-05&now=Y&filter_live=Y\"\n",
    "smzb_df = Get_Schedule_to_DF(url=smzb_url)\n",
    "smzb_df"
   ]
  },
  {
   "cell_type": "code",
   "execution_count": null,
   "metadata": {},
   "outputs": [],
   "source": [
    "try:\n",
    "    assert_frame_equal(smtv_df, smzb_df)\n",
    "    print(\"True\")\n",
    "    \n",
    "except:  \n",
    "    print(\"False\")"
   ]
  },
  {
   "cell_type": "code",
   "execution_count": null,
   "metadata": {},
   "outputs": [],
   "source": [
    "url = \"https://smtv.io/program/listwithgame/default?parent=43&child=all&day_length=7&date=2020-06-05&now=Y&filter_live=Y\"\n",
    "\n",
    "def Get_Schedule_diff(url):\n",
    "    res = requests.get(url,headers=headers)\n",
    "    schedule = json.loads(res.text)\n",
    "    result = []\n",
    "    for i in range(len(schedule[\"result\"])):\n",
    "\n",
    "        for j in range(len(schedule[\"result\"][i][\"data\"])):\n",
    "\n",
    "            live_types_name = schedule[\"result\"][i][\"data\"][j][\"live_types_name\"]\n",
    "            live_types_child_name = schedule[\"result\"][i][\"data\"][j][\"live_types_child_name\"]\n",
    "            lname = schedule[\"result\"][i][\"data\"][j][\"lname\"]\n",
    "            time = schedule[\"result\"][i][\"data\"][j][\"time\"]\n",
    "            hname = schedule[\"result\"][i][\"data\"][j][\"hname\"]\n",
    "            aname = schedule[\"result\"][i][\"data\"][j][\"aname\"]\n",
    "            account = []\n",
    "\n",
    "            for k in schedule[\"result\"][i][\"data\"][j][\"account\"]:\n",
    "                nickname = k[\"nickname\"]\n",
    "                live_status = k[\"live_status\"]\n",
    "\n",
    "                if live_status == 1:\n",
    "                    status = \"開播\"\n",
    "                else:\n",
    "                    status = \"未開播\"\n",
    "                account.append({\"nickname\":nickname,\"live_status\":status})\n",
    "\n",
    "            result_str = time + \"  \" + lname + \"  \" + hname + \" vs \" + aname + \"  \" + str(account)\n",
    "\n",
    "\n",
    "            result.append(result_str)\n",
    "\n",
    "    return result"
   ]
  },
  {
   "cell_type": "code",
   "execution_count": null,
   "metadata": {},
   "outputs": [],
   "source": [
    "smtv_url = \"https://smtv.io/program/listwithgame/default?parent=43&child=all&day_length=7&date=2020-06-05&now=Y&filter_live=Y\"\n",
    "smtv = Get_Schedule_diff(url=smtv_url)\n"
   ]
  },
  {
   "cell_type": "code",
   "execution_count": null,
   "metadata": {},
   "outputs": [],
   "source": [
    "smzb_url = \"https://smzb.io/program/listwithgame/default?parent=1&child=all&day_length=7&date=2020-06-05&now=Y&filter_live=Y\"\n",
    "smzb = Get_Schedule_diff(url=smzb_url)\n"
   ]
  },
  {
   "cell_type": "code",
   "execution_count": null,
   "metadata": {},
   "outputs": [],
   "source": [
    "diff_1 = set(smtv)\n",
    "diff_2 = set(smzb)\n",
    "diff_result = list(diff_1.difference(diff_2)).sort()\n",
    "# result_len = len(diff_result)\n",
    "diff_result"
   ]
  },
  {
   "cell_type": "code",
   "execution_count": null,
   "metadata": {},
   "outputs": [],
   "source": [
    "test_url = \"https://smtv.io/program/listwithgame/default?parent=43&child=all&day_length=7&date=2020-06-05&now=Y&filter_live=Y\"\n",
    "test = Get_Schedule_diff(url = test_url)\n"
   ]
  },
  {
   "cell_type": "code",
   "execution_count": null,
   "metadata": {},
   "outputs": [],
   "source": []
  },
  {
   "cell_type": "code",
   "execution_count": null,
   "metadata": {},
   "outputs": [],
   "source": []
  }
 ],
 "metadata": {
  "kernelspec": {
   "display_name": "Python 3",
   "language": "python",
   "name": "python3"
  },
  "language_info": {
   "codemirror_mode": {
    "name": "ipython",
    "version": 3
   },
   "file_extension": ".py",
   "mimetype": "text/x-python",
   "name": "python",
   "nbconvert_exporter": "python",
   "pygments_lexer": "ipython3",
   "version": "3.6.9"
  }
 },
 "nbformat": 4,
 "nbformat_minor": 2
}
