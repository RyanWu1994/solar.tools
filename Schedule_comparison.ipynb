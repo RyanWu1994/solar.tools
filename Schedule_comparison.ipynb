{
 "cells": [
  {
   "cell_type": "code",
   "execution_count": 1,
   "metadata": {},
   "outputs": [],
   "source": [
    "import requests\n",
    "from bs4 import BeautifulSoup\n",
    "import pandas as pd\n",
    "import re\n",
    "import json\n",
    "from fake_useragent import UserAgent\n",
    "from datetime import datetime\n",
    "import time\n"
   ]
  },
  {
   "cell_type": "code",
   "execution_count": 2,
   "metadata": {},
   "outputs": [],
   "source": [
    "ua = UserAgent()\n",
    "headers = {\"User-Agent\":ua.random}\n"
   ]
  },
  {
   "cell_type": "code",
   "execution_count": 3,
   "metadata": {},
   "outputs": [],
   "source": [
    "def SMTVsports(smtv_schedule):\n",
    "    \n",
    "    result = []\n",
    "    for i in range(len(smtv_schedule[\"result\"])):\n",
    "\n",
    "        for j in range(len(smtv_schedule[\"result\"][i][\"data\"])):\n",
    "\n",
    "            smtv_type = smtv_schedule[\"result\"][i][\"data\"][j][\"live_types_name\"]\n",
    "            smtv_type_child = smtv_schedule[\"result\"][i][\"data\"][j][\"live_types_child_name\"]\n",
    "            smtv_lnameEN = smtv_schedule[\"result\"][i][\"data\"][j][\"lname\"]\n",
    "            smtv_time = smtv_schedule[\"result\"][i][\"data\"][j][\"time\"]\n",
    "            smtv_TeamA = smtv_schedule[\"result\"][i][\"data\"][j][\"hname\"]\n",
    "            smtv_TeamB = smtv_schedule[\"result\"][i][\"data\"][j][\"aname\"]\n",
    "            smtv_signal = []\n",
    "\n",
    "            for k in smtv_schedule[\"result\"][i][\"data\"][j][\"account\"]:\n",
    "                smtv_signal.append(k[\"nickname\"])\n",
    "\n",
    "            dict_={\n",
    "                \"smtv_type\":smtv_type,\n",
    "                \"smtv_type_child\":smtv_type_child,\n",
    "                \"smtv_lnameEN\":smtv_lnameEN,\n",
    "                \"smtv_time\":smtv_time,\n",
    "                \"smtv_TeamA\":smtv_TeamA,\n",
    "                \"smtv_TeamB\":smtv_TeamB,\n",
    "                \"smtv_signal\":smtv_signal\n",
    "            }\n",
    "            result.append(dict_)\n",
    "            \n",
    "    return result\n",
    "        \n",
    "    "
   ]
  },
  {
   "cell_type": "code",
   "execution_count": 10,
   "metadata": {},
   "outputs": [],
   "source": [
    "url = \"https://smtv.io/program/listwithgame/default?parent=44&child=all&day_length=7&date=2020-06-01&now=Y&filter_live=Y\"\n",
    "res = requests.get(url,headers=headers)\n",
    "smtv_schedule = json.loads(res.text)\n",
    "smtv = SMTVsports(smtv_schedule)"
   ]
  },
  {
   "cell_type": "code",
   "execution_count": 5,
   "metadata": {},
   "outputs": [],
   "source": [
    "url_2 = \"https://smzb.io/program/listwithgame/default?parent=1&child=all&day_length=7&date=2020-06-01&now=Y&filter_live=Y\"\n",
    "res_2 = requests.get(url_2,headers=headers)\n",
    "smzb_schedule = json.loads(res_2.text)\n",
    "smzb = SMTVsports(smzb_schedule)"
   ]
  },
  {
   "cell_type": "code",
   "execution_count": 13,
   "metadata": {},
   "outputs": [
    {
     "data": {
      "text/plain": [
       "{'smtv_type': None,\n",
       " 'smtv_type_child': None,\n",
       " 'smtv_lnameEN': '娱乐直播',\n",
       " 'smtv_time': '2020-06-01 16:00:00',\n",
       " 'smtv_TeamA': '陈小刀',\n",
       " 'smtv_TeamB': '百家乐技巧',\n",
       " 'smtv_signal': ['陈小刀']}"
      ]
     },
     "execution_count": 13,
     "metadata": {},
     "output_type": "execute_result"
    }
   ],
   "source": [
    "smtv[0]\n"
   ]
  },
  {
   "cell_type": "code",
   "execution_count": 6,
   "metadata": {},
   "outputs": [],
   "source": [
    "# 平台 賽程時間 賽事 type A隊伍 B隊伍 信號[]"
   ]
  },
  {
   "cell_type": "code",
   "execution_count": 7,
   "metadata": {},
   "outputs": [],
   "source": [
    "# smtv 體育\n",
    "# https://smtv.io/program/43\n",
    "# smtv 娛樂\n",
    "# https://smtv.io/program/44\n",
    "# smtv 電競\n",
    "# https://smtv.io/program/81\n",
    "\n",
    "#------------------------------\n",
    "\n",
    "# smzb 體育\n",
    "# https://smzb.io/program/1\n",
    "# smzb 娛樂\n",
    "# https://smzb.io/program/2\n",
    "# smzb 電競    \n",
    "# https://smzb.io/program/45\n",
    "\n",
    "#------------------------------\n",
    "\n",
    "# ggzb 電競\n",
    "# https://ggzb.io/\n",
    "\n",
    "#------------------------------\n",
    "\n",
    "# lj88 體育\n",
    "# https://lj88.tv/\n",
    "\n",
    "#------------------------------\n",
    "\n",
    "# hqzb 體育\n",
    "# https://hqzb.tv/program\n",
    "\n",
    "#------------------------------"
   ]
  },
  {
   "cell_type": "code",
   "execution_count": null,
   "metadata": {},
   "outputs": [],
   "source": []
  },
  {
   "cell_type": "code",
   "execution_count": 8,
   "metadata": {},
   "outputs": [],
   "source": [
    "# https://smzb.io/program/listwithgame/default?parent=1&child=all&day_length=7&date=2020-05-31&now=Y&filter_live=Y\n",
    "# https://smzb.io/program/listwithgame/default?parent=2&child=all&day_length=7&date=2020-05-31&now=Y&filter_live=Y\n",
    "# https://smzb.io/program/listwithgame/default?parent=45&child=all&day_length=7&date=2020-05-31&now=Y&filter_live=Y"
   ]
  },
  {
   "cell_type": "code",
   "execution_count": null,
   "metadata": {},
   "outputs": [],
   "source": []
  },
  {
   "cell_type": "code",
   "execution_count": null,
   "metadata": {},
   "outputs": [],
   "source": [
    "\n"
   ]
  },
  {
   "cell_type": "code",
   "execution_count": null,
   "metadata": {},
   "outputs": [],
   "source": []
  }
 ],
 "metadata": {
  "kernelspec": {
   "display_name": "Python 3",
   "language": "python",
   "name": "python3"
  },
  "language_info": {
   "codemirror_mode": {
    "name": "ipython",
    "version": 3
   },
   "file_extension": ".py",
   "mimetype": "text/x-python",
   "name": "python",
   "nbconvert_exporter": "python",
   "pygments_lexer": "ipython3",
   "version": "3.6.9"
  }
 },
 "nbformat": 4,
 "nbformat_minor": 2
}
