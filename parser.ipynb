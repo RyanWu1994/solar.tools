{
 "cells": [
  {
   "cell_type": "code",
   "execution_count": null,
   "metadata": {},
   "outputs": [],
   "source": [
    "import re\n",
    "import subprocess\n",
    "from optparse import OptionParser\n",
    " \n",
    "def main(domain):\n",
    "    \n",
    "    cmd='curl -lvs https://{}/'.format(domain)\n",
    "    sslinfo=subprocess.getstatusoutput(cmd)[1]\n",
    "\n",
    "    print('domain:',domain)\n",
    "    m = re.search('subject:(.*?)\\n.*?start date:(.*?)\\n.*?expire date:(.*?)\\n.*?common name:(.*?)\\n.*?issuer:(.*?)\\n',sslinfo)\n",
    "    print('subject:',m.group(1))\n",
    "    print('start date:',m.group(2))\n",
    "    print('expire date:',m.group(3))\n",
    "    print('common name:',m.group(4))\n",
    "    print('issuer:',m.group(5))\n",
    "    print('*'*80)\n",
    "    pass\n",
    "\n",
    " \n",
    "if __name__ == '__main__':\n",
    " \n",
    "    domains=[]\n",
    "    parser=OptionParser()\n",
    "    parser.set_usage('python sslinfoGather.py -d domain   \\n  \tpython sslinfoGather.py -f fileName')\n",
    "    parser.add_option('-d','--domain',dest='domainName',help=' put the domain name')\n",
    "    parser.add_option('-f','--file',dest='fileName',help=' put the fileName which cotains domains;one line one domain')\n",
    " \n",
    "    options,_=parser.parse_args()\n",
    "    \n",
    "    if(options.domainName==None and options.fileName==None):\n",
    "        # parser.print_usage()\n",
    "        parser.print_help()\n",
    "        exit()\n",
    "    if options.domainName!=None:\n",
    "        domains.append(options.domainName)\n",
    " \n",
    "    if options.fileName!=None:\n",
    "        f=open(options.fileName)\n",
    "        for domain in f:\n",
    "            domains.append(domain)\n",
    " \n",
    "    if len(domains)>0:\n",
    "        # domains=['www.baidu.com','www.sina.cn','www.jd.com']\n",
    "        for domain in domains:\n",
    "            try:\n",
    "                main(domain)\n",
    "            except Exception as e:\n",
    "                print('use python3 please\\nError info:',str(e))\n",
    "                exit()\n",
    "    \n",
    "    else:\n",
    "        print('input wrong ,check again!!!')\n"
   ]
  },
  {
   "cell_type": "code",
   "execution_count": 16,
   "metadata": {},
   "outputs": [
    {
     "data": {
      "text/plain": [
       "200"
      ]
     },
     "execution_count": 16,
     "metadata": {},
     "output_type": "execute_result"
    }
   ],
   "source": [
    "import requests\n",
    "\n",
    "url = \"https://smzb.io/\"\n",
    "\n",
    "res = requests.get(url)\n",
    "res.status_code"
   ]
  },
  {
   "cell_type": "code",
   "execution_count": null,
   "metadata": {},
   "outputs": [],
   "source": []
  },
  {
   "cell_type": "code",
   "execution_count": null,
   "metadata": {},
   "outputs": [],
   "source": []
  }
 ],
 "metadata": {
  "kernelspec": {
   "display_name": "Python 3",
   "language": "python",
   "name": "python3"
  },
  "language_info": {
   "codemirror_mode": {
    "name": "ipython",
    "version": 3
   },
   "file_extension": ".py",
   "mimetype": "text/x-python",
   "name": "python",
   "nbconvert_exporter": "python",
   "pygments_lexer": "ipython3",
   "version": "3.6.9"
  }
 },
 "nbformat": 4,
 "nbformat_minor": 2
}
