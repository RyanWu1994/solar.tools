{
 "cells": [
  {
   "cell_type": "code",
   "execution_count": null,
   "metadata": {},
   "outputs": [],
   "source": [
    "import time\n",
    "import os\n",
    "import sys\n",
    "from bs4 import BeautifulSoup\n",
    "\n",
    "from selenium import webdriver\n",
    "from selenium.webdriver.common.by import By\n",
    "from selenium.webdriver.support.ui import WebDriverWait\n",
    "from selenium.webdriver.support import expected_conditions as EC\n",
    "from selenium.webdriver.common.by import By\n"
   ]
  },
  {
   "cell_type": "code",
   "execution_count": null,
   "metadata": {},
   "outputs": [],
   "source": [
    "CHROMEDRIVER_PATH = './tools/chromedriver.exe'\n",
    "\n",
    "options = webdriver.ChromeOptions()\n",
    "options.add_argument('--headless')\n",
    "options.add_argument('--no-sandbox')\n",
    "options.add_argument('--disable-gpu')\n",
    "options.add_argument('blink-settings=imagesEnabled=false')\n",
    "options.add_argument('--enable-features=OverlayScrollbar')\n",
    "\n",
    "driver = webdriver.Chrome(executable_path=CHROMEDRIVER_PATH, options=options)\n",
    "\n",
    "driver.get(\"https://www.ggkjplus.com/admin/#/login\")\n",
    "time.sleep(2)\n",
    "driver.find_element(By.NAME, \"mobile\").click()\n",
    "driver.find_element(By.NAME, \"mobile\").send_keys(\"username\")\n",
    "driver.find_element(By.NAME, \"pwd\").click()\n",
    "driver.find_element(By.NAME, \"pwd\").send_keys(\"passwd\")\n",
    "driver.find_element(By.CSS_SELECTOR, \".over-btn > span\").click()\n",
    "time.sleep(5)\n",
    "soup = BeautifulSoup(driver.page_source,\"html.parser\")\n",
    "driver.close()\n",
    "\n",
    "download = int(soup.find_all(\"div\",class_=\"iCountUp num\")[1].text.replace(\",\",\"\"))\n",
    "print(\"您下載點數為:\",download)"
   ]
  }
 ],
 "metadata": {
  "kernelspec": {
   "display_name": "Python 3",
   "language": "python",
   "name": "python3"
  },
  "language_info": {
   "codemirror_mode": {
    "name": "ipython",
    "version": 3
   },
   "file_extension": ".py",
   "mimetype": "text/x-python",
   "name": "python",
   "nbconvert_exporter": "python",
   "pygments_lexer": "ipython3",
   "version": "3.7.4"
  }
 },
 "nbformat": 4,
 "nbformat_minor": 2
}
